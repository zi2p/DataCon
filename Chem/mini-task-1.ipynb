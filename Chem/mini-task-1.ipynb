# Mini-task-chem-1
## 0. Импорт библиотек и установка зависимостей
!pip install pubchempy rdkit-pypi tqdm pandas
!pip install numpy==1.26.4
import pubchempy as pcp
import pandas as pd
from tqdm.notebook import tqdm
from rdkit import Chem
## 1. Парсинг данных из PubChem по торговым названиям
drug_names = [
    "Aspirin", "Paracetamol", "Ibuprofen", "Amoxicillin", "Ciprofloxacin",
    "Metformin", "Omeprazole", "Simvastatin", "Losartan", "Lisinopril",
    "Atorvastatin", "Salbutamol", "Furosemide", "Levothyroxine", "Metoprolol",
    "Pantoprazole", "Dexamethasone", "Clopidogrel", "Prednisone", "Rosuvastatin"
]  # были выбраны в ручном режиме

results = []  # тут будут сохраняться результаты запросов

for name in tqdm(drug_names):
    try:
        cids = pcp.get_cids(name, 'name')
        if not cids:
            results.append({'compound_name': name, 'Error': 'No CID found'})
            continue

        for cid in cids:
            try:
                c = pcp.Compound.from_cid(cid)
                results.append({
                    'compound_name': name,
                    'CID': cid,
                    'canonical_smiles': c.canonical_smiles,
                    'isomeric_smiles': c.isomeric_smiles,
                    'inchi_key': c.inchikey,
                    'molecular_weight': c.molecular_weight,
                    'iupac_name': c.iupac_name
                })
            except Exception as inner:
                results.append({'compound_name': name, 'CID': cid, 'Error': str(inner)})

    except Exception as e:
        results.append({'compound_name': name, 'Error': str(e)})

df = pd.DataFrame(results)   # сохраняем результаты запросов в таблицу дата-фрейма
df.to_csv("pubchem_by_cid.csv", index=False)  # сохраняем дата-фрейм в csv файл
df.head()  # просматриваем первые несколько строк таблицы, чтобы посмотреть что мы сохранили
Было замечено, что `canonical_smiles` часто `NaN`, при использовании библиотеки `rdkit` получить эти значения так же не удалось. Возможно, нужно было рассматривать другие препараты.
Несколько CID для одного названия выявлено не было.
## 2. Канонизация SMILES с помощью RDKit
def canonicalize_smiles(smiles):
    try:
        mol = Chem.MolFromSmiles(smiles)
        if mol is None:
            return None
        return Chem.MolToSmiles(mol, isomericSmiles=True, canonical=True)
    except:
        return None

df["canonicalized_smiles"] = df["canonical_smiles"].apply(canonicalize_smiles)
df.head()

Так как первоначально не было получено в таблицу `canonical_smiles`, то при использовании функции результат тоже оказался печальный == `NaN`.
df.shape # смотрим размерность - как было 20 препаратов, так и осталось, дубликатов нет
## 3. Удаление дубликатов по InChIKey
В нашем случае дубликатов не было выявлено, но реализовать функцию или создание нового дата-сета без дубликатов - задача из мини-таски-1, поэтому вот:
df_no_duplicates = df.sort_values(by=["iupac_name", "molecular_weight"], na_position='last').drop_duplicates(subset="inchi_key", keep="first")
df_no_duplicates.head()

## 4. Анализ пропущенных значений
missing = df_no_duplicates.isna().sum()  # счет пропущенных значений
percent = (missing / len(df_no_duplicates) * 100).round(2)  # подсчет процента, округление до 2 знаков
pd.DataFrame({'missing': missing, 'percent': percent}) # вывод подсчетов в виде таблицы

## 5. Добавление источника и сохранение итогового датасета
Само добавление данных не было реализовано, поэтому сразу запишем, что все данные использованные были взяты только из `PubChem`.
Сохраним результат в файл `final_dataset_mini_task_1.csv`.
df_no_duplicates["source"] = "PubChem"

final_df = df_no_duplicates[[
    "compound_name", "canonicalized_smiles", "inchi_key", "molecular_weight", "source"
]]

final_df.to_csv("final_dataset_mini_task_1.csv", index=False)
final_df.head()
